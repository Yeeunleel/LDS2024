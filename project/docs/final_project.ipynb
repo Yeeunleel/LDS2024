{
 "cells": [
  {
   "cell_type": "markdown",
   "metadata": {},
   "source": [
    "2024-2 언어데이터과학 기말프로젝트 최종보고서\n",
    "\n",
    "# AI Hub 한국어-영어 번역 말뭉치를 통한 한국어 피동문과 영어 수동문의 대응 양상 분석\n",
    "\n",
    "2021-14058 이예은\n",
    "\n",
    "## 1 서론\n",
    "\n",
    "### 1.1 연구 배경 및 목적\n",
    "\n",
    " 전통적인 관점에서 한국어는 영어에 비해 수동/피동 표현이 적게 나타나는 언어로 여겨진다. 이에 대한 대표적인 근거는 다음과 같다. (1) 수동문은 영어처럼 주어(subject)가 두드러지는 언어에서 흔히 나타나는 반면, 한국어처럼 주제(topic)가 중심인 언어에서는 드물거나 주변적인 위치를 차지한다. (2) 한국어에서는 능동문에서도 행동주(agent)를 생략할 수 있지만, 영어에서 행동주를 생략하기 위해서는 수동태 문장 구조를 사용해야 한다. \n",
    " 이러한 이유로 한국어에서 수동/피동 표현은 영어에 비해 생산성이 낮다고 평가되며, 영어 수동 표현은 한국어에서 피동형이 아닌 능동형으로 번역될 것이 권장되고 실제 번역에서도 그러한 경향을 보인다. 관련 연구가 주로 영한 번역에서 진행된 반면, 본 프로젝트는 한영 번역 말뭉치 데이터를 활용하여 두 언어 간 수동/피동 표현의 생산성 차이를 비교 검증하고자 한다. \n",
    " 구체적으로, 한영 번역 데이터에서 영어 수동문이 한국어 능동문이나 피동문에서 생성된 비율을 분석할 것이다. 만약 한국어 원문이 능동문임에도 영어 번역문에서 수동 표현이 선택된 비율이 높다면, 이는 영어에서 수동 표현이 문맥적으로 더 생산적인 선택이 될 가능성을 시사할 것이다. 이를 통해 두 언어 간 수동/피동 표현의 상대적 생산성을 정량적으로 평가하고, 번역 과정에서 드러나는 언어적 특성을 규명하는 데 기여하고자 한다.\n",
    "\n",
    "### 1.2 연구 계획 대비 목표 달성 결과\n",
    "\n",
    "([연구계획서](./proposal.pdf)에 작성한 내용이 계획대로 실행되었는지 쓴다.)\n",
    "\n",
    "||계획|실행|결과|\n",
    "|--|--|--|--|\n",
    "|데이터 수집|[[AI Hub]]에서 [한국어-영어 번역(병렬) 말뭉치] 중 [대화체 데이터(10만 문장)] 다운로드|전체 달성|\n",
    "|데이터 전처리|xlsx 파일 --> 데이터프레임 변환.|pandas를 사용하여 실행함.|전체 달성|\n",
    "|데이터 가공1|데이터프레임이 구축되면 pandas 라이브러리와 정규표현식, spaCy, koNLPy, jamo 등의 자연어처리 라이브러리를 사용하여 각 영어 데이터와 한국어 데이터에서 수동 및 피동 표현을 감지한다.|[영어 수동문 감지 패턴 출처](https://stackoverflow.com/questions/74528441/detect-passive-or-active-sentence-from-text)|전체 달성|\n",
    "|데이터 가공2|영어 수동문을 기준으로 전체 데이터를 필터링하고, 한국어 피동 표현을 기준으로 전체 데이터를 추가 필터링하는 교차 분석을 통해 연구 결과의 신뢰성을 높인다.|전체 데이터를 한국어 피동 표현을 기준으로 필터링할 때 사동 접사와 피동 접사를 구분하지 못하는 문제가 발생하여 오류 데이터가 다수 포함되었다. 이에 따라 원래 계획을 수정하여 영어 수동문을 기준으로만 데이터를 필터링했다. |일부 달성|\n",
    "|데이터 활용|가공된 병렬 데이터에서 영어 수동문과 한국어 피동문의 대응 양상을 수치화해서 비교하고 시각화한다.||전체 달성|\n",
    "|...|...|...|...|"
   ]
  },
  {
   "cell_type": "markdown",
   "metadata": {},
   "source": [
    "## 2 연구 방법\n",
    "\n",
    "### 2.1 코퍼스\n",
    "\n",
    "[[AI Hub]] [한국어-영어 번역(병렬) 말뭉]는 AI 번역 엔진 개발을 위한 문어체 한영 번역 110 문장과 구어체 한영 번역 50만 문장으로 이루어져 있고, 구어체 데이터 중 프로젝트에서 사용한 대화체 데이터는 10만 문장을 포함하고 있다. 각 말뭉치는 주제별 xlsx 파일 형식으로 구분되어 있다. 대화체 데이터의 크기는 9MB이다.\n",
    "\n",
    "### 2.2 텍스트 전처리"
   ]
  },
  {
   "cell_type": "code",
   "execution_count": 13,
   "metadata": {},
   "outputs": [
    {
     "name": "stdout",
     "output_type": "stream",
     "text": [
      "Requirement already satisfied: openpyxl in /usr/local/python/3.12.1/lib/python3.12/site-packages (3.1.5)\n",
      "Requirement already satisfied: et-xmlfile in /usr/local/python/3.12.1/lib/python3.12/site-packages (from openpyxl) (2.0.0)\n",
      "Requirement already satisfied: spacy in /usr/local/python/3.12.1/lib/python3.12/site-packages (3.8.2)\n",
      "Requirement already satisfied: spacy-legacy<3.1.0,>=3.0.11 in /usr/local/python/3.12.1/lib/python3.12/site-packages (from spacy) (3.0.12)\n",
      "Requirement already satisfied: spacy-loggers<2.0.0,>=1.0.0 in /usr/local/python/3.12.1/lib/python3.12/site-packages (from spacy) (1.0.5)\n",
      "Requirement already satisfied: murmurhash<1.1.0,>=0.28.0 in /usr/local/python/3.12.1/lib/python3.12/site-packages (from spacy) (1.0.10)\n",
      "Requirement already satisfied: cymem<2.1.0,>=2.0.2 in /usr/local/python/3.12.1/lib/python3.12/site-packages (from spacy) (2.0.8)\n",
      "Requirement already satisfied: preshed<3.1.0,>=3.0.2 in /usr/local/python/3.12.1/lib/python3.12/site-packages (from spacy) (3.0.9)\n",
      "Requirement already satisfied: thinc<8.4.0,>=8.3.0 in /usr/local/python/3.12.1/lib/python3.12/site-packages (from spacy) (8.3.2)\n",
      "Requirement already satisfied: wasabi<1.2.0,>=0.9.1 in /usr/local/python/3.12.1/lib/python3.12/site-packages (from spacy) (1.1.3)\n",
      "Requirement already satisfied: srsly<3.0.0,>=2.4.3 in /usr/local/python/3.12.1/lib/python3.12/site-packages (from spacy) (2.4.8)\n",
      "Requirement already satisfied: catalogue<2.1.0,>=2.0.6 in /usr/local/python/3.12.1/lib/python3.12/site-packages (from spacy) (2.0.10)\n",
      "Requirement already satisfied: weasel<0.5.0,>=0.1.0 in /usr/local/python/3.12.1/lib/python3.12/site-packages (from spacy) (0.4.1)\n",
      "Requirement already satisfied: typer<1.0.0,>=0.3.0 in /usr/local/python/3.12.1/lib/python3.12/site-packages (from spacy) (0.13.0)\n",
      "Requirement already satisfied: tqdm<5.0.0,>=4.38.0 in /usr/local/python/3.12.1/lib/python3.12/site-packages (from spacy) (4.66.5)\n",
      "Requirement already satisfied: requests<3.0.0,>=2.13.0 in /home/codespace/.local/lib/python3.12/site-packages (from spacy) (2.32.3)\n",
      "Requirement already satisfied: pydantic!=1.8,!=1.8.1,<3.0.0,>=1.7.4 in /usr/local/python/3.12.1/lib/python3.12/site-packages (from spacy) (2.9.2)\n",
      "Requirement already satisfied: jinja2 in /home/codespace/.local/lib/python3.12/site-packages (from spacy) (3.1.4)\n",
      "Requirement already satisfied: setuptools in /home/codespace/.local/lib/python3.12/site-packages (from spacy) (73.0.1)\n",
      "Requirement already satisfied: packaging>=20.0 in /home/codespace/.local/lib/python3.12/site-packages (from spacy) (24.1)\n",
      "Requirement already satisfied: langcodes<4.0.0,>=3.2.0 in /usr/local/python/3.12.1/lib/python3.12/site-packages (from spacy) (3.4.1)\n",
      "Requirement already satisfied: numpy>=1.19.0 in /usr/local/python/3.12.1/lib/python3.12/site-packages (from spacy) (2.0.2)\n",
      "Requirement already satisfied: language-data>=1.2 in /usr/local/python/3.12.1/lib/python3.12/site-packages (from langcodes<4.0.0,>=3.2.0->spacy) (1.2.0)\n",
      "Requirement already satisfied: annotated-types>=0.6.0 in /usr/local/python/3.12.1/lib/python3.12/site-packages (from pydantic!=1.8,!=1.8.1,<3.0.0,>=1.7.4->spacy) (0.7.0)\n",
      "Requirement already satisfied: pydantic-core==2.23.4 in /usr/local/python/3.12.1/lib/python3.12/site-packages (from pydantic!=1.8,!=1.8.1,<3.0.0,>=1.7.4->spacy) (2.23.4)\n",
      "Requirement already satisfied: typing-extensions>=4.6.1 in /home/codespace/.local/lib/python3.12/site-packages (from pydantic!=1.8,!=1.8.1,<3.0.0,>=1.7.4->spacy) (4.9.0)\n",
      "Requirement already satisfied: charset-normalizer<4,>=2 in /home/codespace/.local/lib/python3.12/site-packages (from requests<3.0.0,>=2.13.0->spacy) (3.3.2)\n",
      "Requirement already satisfied: idna<4,>=2.5 in /home/codespace/.local/lib/python3.12/site-packages (from requests<3.0.0,>=2.13.0->spacy) (3.7)\n",
      "Requirement already satisfied: urllib3<3,>=1.21.1 in /home/codespace/.local/lib/python3.12/site-packages (from requests<3.0.0,>=2.13.0->spacy) (2.2.2)\n",
      "Requirement already satisfied: certifi>=2017.4.17 in /home/codespace/.local/lib/python3.12/site-packages (from requests<3.0.0,>=2.13.0->spacy) (2024.7.4)\n",
      "Requirement already satisfied: blis<1.1.0,>=1.0.0 in /usr/local/python/3.12.1/lib/python3.12/site-packages (from thinc<8.4.0,>=8.3.0->spacy) (1.0.1)\n",
      "Requirement already satisfied: confection<1.0.0,>=0.0.1 in /usr/local/python/3.12.1/lib/python3.12/site-packages (from thinc<8.4.0,>=8.3.0->spacy) (0.1.5)\n",
      "Requirement already satisfied: click>=8.0.0 in /usr/local/python/3.12.1/lib/python3.12/site-packages (from typer<1.0.0,>=0.3.0->spacy) (8.1.7)\n",
      "Requirement already satisfied: shellingham>=1.3.0 in /usr/local/python/3.12.1/lib/python3.12/site-packages (from typer<1.0.0,>=0.3.0->spacy) (1.5.4)\n",
      "Requirement already satisfied: rich>=10.11.0 in /usr/local/python/3.12.1/lib/python3.12/site-packages (from typer<1.0.0,>=0.3.0->spacy) (13.9.4)\n",
      "Requirement already satisfied: cloudpathlib<1.0.0,>=0.7.0 in /usr/local/python/3.12.1/lib/python3.12/site-packages (from weasel<0.5.0,>=0.1.0->spacy) (0.20.0)\n",
      "Requirement already satisfied: smart-open<8.0.0,>=5.2.1 in /usr/local/python/3.12.1/lib/python3.12/site-packages (from weasel<0.5.0,>=0.1.0->spacy) (7.0.5)\n",
      "Requirement already satisfied: MarkupSafe>=2.0 in /home/codespace/.local/lib/python3.12/site-packages (from jinja2->spacy) (2.1.5)\n",
      "Requirement already satisfied: marisa-trie>=0.7.7 in /usr/local/python/3.12.1/lib/python3.12/site-packages (from language-data>=1.2->langcodes<4.0.0,>=3.2.0->spacy) (1.2.1)\n",
      "Requirement already satisfied: markdown-it-py>=2.2.0 in /usr/local/python/3.12.1/lib/python3.12/site-packages (from rich>=10.11.0->typer<1.0.0,>=0.3.0->spacy) (3.0.0)\n",
      "Requirement already satisfied: pygments<3.0.0,>=2.13.0 in /home/codespace/.local/lib/python3.12/site-packages (from rich>=10.11.0->typer<1.0.0,>=0.3.0->spacy) (2.18.0)\n",
      "Requirement already satisfied: wrapt in /usr/local/python/3.12.1/lib/python3.12/site-packages (from smart-open<8.0.0,>=5.2.1->weasel<0.5.0,>=0.1.0->spacy) (1.16.0)\n",
      "Requirement already satisfied: mdurl~=0.1 in /usr/local/python/3.12.1/lib/python3.12/site-packages (from markdown-it-py>=2.2.0->rich>=10.11.0->typer<1.0.0,>=0.3.0->spacy) (0.1.2)\n",
      "Collecting en-core-web-sm==3.8.0\n",
      "  Downloading https://github.com/explosion/spacy-models/releases/download/en_core_web_sm-3.8.0/en_core_web_sm-3.8.0-py3-none-any.whl (12.8 MB)\n",
      "\u001b[2K     \u001b[90m━━━━━━━━━━━━━━━━━━━━━━━━━━━━━━━━━━━━━━━━\u001b[0m \u001b[32m12.8/12.8 MB\u001b[0m \u001b[31m71.1 MB/s\u001b[0m eta \u001b[36m0:00:00\u001b[0m\n",
      "\u001b[?25h\u001b[38;5;2m✔ Download and installation successful\u001b[0m\n",
      "You can now load the package via spacy.load('en_core_web_sm')\n",
      "Requirement already satisfied: konlpy in /usr/local/python/3.12.1/lib/python3.12/site-packages (0.6.0)\n",
      "Requirement already satisfied: JPype1>=0.7.0 in /usr/local/python/3.12.1/lib/python3.12/site-packages (from konlpy) (1.5.0)\n",
      "Requirement already satisfied: lxml>=4.1.0 in /usr/local/python/3.12.1/lib/python3.12/site-packages (from konlpy) (5.3.0)\n",
      "Requirement already satisfied: numpy>=1.6 in /usr/local/python/3.12.1/lib/python3.12/site-packages (from konlpy) (2.0.2)\n",
      "Requirement already satisfied: packaging in /home/codespace/.local/lib/python3.12/site-packages (from JPype1>=0.7.0->konlpy) (24.1)\n",
      "Requirement already satisfied: jamo in /usr/local/python/3.12.1/lib/python3.12/site-packages (0.4.1)\n"
     ]
    }
   ],
   "source": [
    "# 설치 필요 라이브러리\n",
    "!pip install openpyxl\n",
    "!pip install spacy\n",
    "!python -m spacy download en_core_web_sm\n",
    "!pip install -U konlpy\n",
    "!pip install jamo\n",
    "\n",
    "# 필요한 라이브러리 임포트\n",
    "import pandas as pd\n",
    "from tqdm import tqdm\n",
    "import re\n",
    "import spacy\n",
    "from spacy.matcher import Matcher\n",
    "from konlpy.tag import Kkma\n",
    "from jamo import h2j, j2hcj\n",
    "import matplotlib.pyplot as plt\n",
    "import seaborn as sns"
   ]
  },
  {
   "cell_type": "code",
   "execution_count": null,
   "metadata": {},
   "outputs": [
    {
     "name": "stdout",
     "output_type": "stream",
     "text": [
      "<class 'pandas.core.frame.DataFrame'>\n",
      "RangeIndex: 100000 entries, 0 to 99999\n",
      "Data columns (total 7 columns):\n",
      " #   Column   Non-Null Count   Dtype \n",
      "---  ------   --------------   ----- \n",
      " 0   대분류      100000 non-null  object\n",
      " 1   소분류      100000 non-null  object\n",
      " 2   상황       100000 non-null  object\n",
      " 3   Set Nr.  100000 non-null  int64 \n",
      " 4   발화자      100000 non-null  object\n",
      " 5   원문       100000 non-null  object\n",
      " 6   번역문      100000 non-null  object\n",
      "dtypes: int64(1), object(6)\n",
      "memory usage: 5.3+ MB\n",
      "None\n",
      "    대분류 소분류       상황  Set Nr.  발화자                            원문  \\\n",
      "0  비즈니스  회의  의견 교환하기        1  A-1   이번 신제품 출시에 대한 시장의 반응은 어떤가요?   \n",
      "1  비즈니스  회의  의견 교환하기        1  B-1    판매량이 지난번 제품보다 빠르게 늘고 있습니다.   \n",
      "2  비즈니스  회의  의견 교환하기        1  A-2  그렇다면 공장에 연락해서 주문량을 더 늘려야겠네요.   \n",
      "3  비즈니스  회의  의견 교환하기        1  B-2   네, 제가 연락해서 주문량을 2배로 늘리겠습니다.   \n",
      "4  비즈니스  회의  의견 교환하기        2  A-1   지난 회의 마지막에 논의했던 안건을 다시 볼까요?   \n",
      "\n",
      "                                                 번역문  \n",
      "0  How is the market's reaction to the newly rele...  \n",
      "1  The sales increase is faster than the previous...  \n",
      "2  Then, we'll have to call the manufacturer and ...  \n",
      "3  Sure, I'll make a call and double the volume o...  \n",
      "4  Shall we take a look at the issues we discusse...  \n"
     ]
    }
   ],
   "source": [
    "# 파일 경로 지정 및 데이터 읽기\n",
    "file_path = './data/한국어-영어 번역(병렬) 말뭉치/2_conversation_200226.xlsx'\n",
    "df = pd.read_excel(file_path)\n",
    "\n",
    "# 데이터 구조 및 샘플 확인\n",
    "print(df.info())  # 데이터 구조 및 열 정보 확인\n",
    "print(df.head())  # 첫 몇 행 출력\n",
    "\n",
    "# 데이터 전처리: 결측치 제거 및 필요한 열 선택\n",
    "df = df.dropna()  # 결측치 제거\n",
    "df = df[['원문', '번역문']]  # 필요한 열만 선택\n",
    "# 전처리된 데이터 출력\n",
    "df"
   ]
  },
  {
   "cell_type": "markdown",
   "metadata": {},
   "source": [
    "### 2.3 데이터 가공\n",
    "전체 데이터 중에서 영어 수동문을 감지하고, 영어 수동문이 포함된 데이터만 필터링해 그 범위 내에서 대응하는 한국어 원문의 피동 표현을 분석해 비교한다. \n",
    "### 2.3.1 영어 데이터 가공 - 영어 수동문 감지\n",
    "영어 수동문 감지 패턴은 (https://stackoverflow.com/questions/74528441/detect-passive-or-active-sentence-from-text)의 솔루션을 참고해서 구성했다. "
   ]
  },
  {
   "cell_type": "code",
   "execution_count": 15,
   "metadata": {},
   "outputs": [],
   "source": [
    "# spaCy 모델 로드\n",
    "nlp = spacy.load(\"en_core_web_sm\")\n",
    "\n",
    "# 수동문 감지 패턴 정의\n",
    "'''\n",
    "nsubjpass: nominal subject (passive)\n",
    "aux: auxiliary\n",
    "auxpass: auxiliary (passive)\n",
    "VBN: verb, past participle\n",
    "VBZ: verb, 3rd person singular present\n",
    "RB: adverb \n",
    "''' \n",
    "\n",
    "matcher = Matcher(nlp.vocab)\n",
    "passive_rules = [\n",
    "    [{'DEP': 'nsubjpass'}, {'DEP': 'aux', 'OP': '*'}, {'DEP': 'auxpass'}, {'TAG': 'VBN'}], \n",
    "    [{'DEP': 'nsubjpass'}, {'DEP': 'aux', 'OP': '*'}, {'DEP': 'auxpass'}, {'TAG': 'VBZ'}],\n",
    "    [{'DEP': 'nsubjpass'}, {'DEP': 'aux', 'OP': '*'}, {'DEP': 'auxpass'}, {'TAG': 'RB'}, {'TAG': 'VBN'}],\n",
    "]\n",
    "matcher.add(\"Passive\", passive_rules)\n",
    "\n",
    "# 수동문 개수 계산 함수\n",
    "def count_passive_sentences(text):\n",
    "    doc = nlp(text)  # 텍스트 처리\n",
    "    matches = matcher(doc)  # Matcher로 패턴 매칭\n",
    "    return len(matches)  # 매칭된 패턴 개수 반환"
   ]
  },
  {
   "cell_type": "code",
   "execution_count": 16,
   "metadata": {},
   "outputs": [
    {
     "name": "stderr",
     "output_type": "stream",
     "text": [
      "Processing Sentences: 100%|██████████| 100000/100000 [07:15<00:00, 229.83it/s]\n"
     ]
    }
   ],
   "source": [
    "# 각 영어 문장에 대해 수동문 개수 계산\n",
    "eng_passive_counts = []\n",
    "for text in tqdm(eng, desc=\"Processing Sentences\"):\n",
    "    count = count_passive_sentences(text)\n",
    "    eng_passive_counts.append(count)\n",
    "\n",
    "\n",
    "# 결과를 데이터프레임에 추가\n",
    "df[\"eng_passive_count\"] = eng_passive_counts\n",
    "df = df[df[\"eng_passive_count\"] > 0].reset_index(drop=True) # 영어 수동문 기준 데이터 필터링"
   ]
  },
  {
   "cell_type": "code",
   "execution_count": 28,
   "metadata": {},
   "outputs": [],
   "source": [
    "df = df[df[\"eng_passive_count\"] > 0].reset_index(drop=True) # 영어 수동문 기준 데이터 필터링"
   ]
  },
  {
   "cell_type": "markdown",
   "metadata": {},
   "source": [
    "### 2.3.2 한국어 데이터 가공 - 한국어 피동문 감지\n",
    "한국어 피동 표현은 다음과 같이 세 가지 유형으로 나누어 탐지했다.\n",
    "1) 피동 접미사 \"-이/히/리/기-\"를 포함한 패턴\n",
    "* 이 때 동사 어근 자체에 \"이/히/리/기\"가 포함되어 피동 표현이 잘못 감지되는 경우가 있는데, 대표적으로 발생하는 오류인 \"드리다\" 동사를 제외했다.\n",
    "2) 보조동사 \"-어지다\"를 포함한 패턴\n",
    "* 이 때 자모 분석을 통해 모음 탈락 조건에서 연결 어미 \"어/아\"가 생략되는 경우 또한 포함해서 감지하도록 설정했다.\n",
    "3) 피동 접미사 \"-되다\", \"-받다\", \"-당하다\"를 포함한 패턴 \n",
    "* 이 때 해당 표현이 접미사가 아닌 동사로 쓰이는 경우는 띄어쓰기 여부를 기준으로 필터링하여 제외했다."
   ]
  },
  {
   "cell_type": "code",
   "execution_count": 43,
   "metadata": {},
   "outputs": [],
   "source": [
    "# 형태소 분석기 로드\n",
    "kkma = Kkma()\n",
    "\n",
    "# 한국어 피동문 유형별 패턴 감지 함수\n",
    "def count_korean_passive_sentences(text):\n",
    "    tokens = kkma.pos(text)  # 형태소 분석\n",
    "    \n",
    "    # 각 피동 탐지 조건별 결과 저장\n",
    "    detected_patterns = {\n",
    "        \"passive_suffix\": [],\n",
    "        \"passive_auxiliary\": [],\n",
    "        \"passive_verb\": []\n",
    "    }\n",
    "    # 1. 피동 접미사 \"-이/히/리/기-\" 패턴 탐지\n",
    "    # '드리다'와 같이 동사 어근에 '리'가 포함되어 잘못 감지되는 경우를 제외\n",
    "    for tok in tokens:\n",
    "        if tok[1] == 'VV' and tok[0].endswith(('이', '히', '리', '기')) and tok[0] not in {'드리', '모이'}: \n",
    "            detected_patterns[\"passive_suffix\"].append(tok)\n",
    "\n",
    "     # 2. 보조동사 \"-어지다\" 패턴 탐지\n",
    "     # 자모 분석을 통해 모음 탈락 조건에서 연결 어미 \"어/아\"가 생략되는 경우 포함\n",
    "    for i in range(len(tokens) - 2):\n",
    "        if (tokens[i][1] == 'VV' and \n",
    "            (tokens[i+1][0] in {'어', '아'} or\n",
    "            any(vowel in j2hcj(h2j(tokens[i][0][-1])) for vowel in {'ㅓ', 'ㅏ', 'ㅐ', 'ㅔ', 'ㅡ'})) and\n",
    "            tokens[i+2][0] == '지'):\n",
    "            detected_patterns[\"passive_auxiliary\"].append((tokens[i], tokens[i+1], tokens[i+2]))\n",
    "\n",
    "    # \"-되다\", \"-받다\", \"-당하다\" 패턴 탐지\n",
    "    # 해당 표현이 접미사가 아닌 동사로 쓰이는 경우 제외 (띄어쓰기 여부를 기준으로 필터링)\n",
    "    for tok in tokens:\n",
    "        if tok[1] == 'VV' and re.search(r'^\\s*받|^(되|당하)', tok[0]): \n",
    "            detected_patterns[\"passive_verb\"].append(tok)\n",
    "    \n",
    "    # 총 탐지 개수 반환\n",
    "    total_count = sum(len(matches) for matches in detected_patterns.values())\n",
    "    return total_count"
   ]
  },
  {
   "cell_type": "code",
   "execution_count": 44,
   "metadata": {},
   "outputs": [],
   "source": [
    "kor = df['원문']\n",
    "eng = df['번역문']"
   ]
  },
  {
   "cell_type": "code",
   "execution_count": 45,
   "metadata": {},
   "outputs": [
    {
     "name": "stderr",
     "output_type": "stream",
     "text": [
      "Processing Sentences: 100%|██████████| 6467/6467 [01:45<00:00, 61.23it/s]\n"
     ]
    }
   ],
   "source": [
    "# 각 한국어 문장에 대해 수동문 개수 계산\n",
    "kor_passive_counts = []\n",
    "for text in tqdm(kor, desc=\"Processing Sentences\"):\n",
    "    count = count_korean_passive_sentences(text)\n",
    "    kor_passive_counts.append(count)\n",
    "\n",
    "\n",
    "# 결과를 데이터프레임에 추가\n",
    "df[\"kor_passive_count\"] = kor_passive_counts\n",
    "df = df[['원문', '번역문', 'kor_passive_count', 'eng_passive_count']]"
   ]
  },
  {
   "cell_type": "markdown",
   "metadata": {},
   "source": [
    "## 3. 연구 결과\n",
    "### 3.1 현상 기술\n",
    "영어 수동문을 기준으로 전체 데이터를 필터링했을 때, 감지된 영어 수동문과 한국어 피동 표현의 개수는 다음과 같다."
   ]
  },
  {
   "cell_type": "code",
   "execution_count": 40,
   "metadata": {},
   "outputs": [
    {
     "name": "stderr",
     "output_type": "stream",
     "text": [
      "/tmp/ipykernel_2141/2168491970.py:7: FutureWarning: \n",
      "\n",
      "Passing `palette` without assigning `hue` is deprecated and will be removed in v0.14.0. Assign the `x` variable to `hue` and set `legend=False` for the same effect.\n",
      "\n",
      "  ax = sns.barplot(data=df_summary, x=\"variable\", y=\"value\", palette=\"coolwarm\")\n"
     ]
    },
    {
     "data": {
      "image/png": "[encoded data removed]",
      "text/plain": [
       "<Figure size 800x600 with 1 Axes>"
      ]
     },
     "metadata": {},
     "output_type": "display_data"
    }
   ],
   "source": [
    "# 원문과 번역문 별 수동문 합계 계산 및 시각화\n",
    "df_summary = df.melt(id_vars=[\"원문\", \"번역문\"], \n",
    "                     value_vars=[\"eng_passive_count\", \"kor_passive_count\"]) \\\n",
    "               .groupby(\"variable\").sum().reset_index()\n",
    "# 그래프 시각화\n",
    "plt.figure(figsize=(8, 6))\n",
    "ax = sns.barplot(data=df_summary, x=\"variable\", y=\"value\", palette=\"coolwarm\")\n",
    "\n",
    "# 각 바 위에 수동문 개수 표시\n",
    "for i, v in enumerate(df_summary[\"value\"]):\n",
    "    ax.text(i, v + 10, f\"{v}\", ha=\"center\", va=\"bottom\", fontsize=12)\n",
    "\n",
    "#그래프 제목 및 라벨 설정\n",
    "plt.title(\"Number of Passive Sentences: English vs Korean\")\n",
    "plt.ylabel(\"Number of Passive Sentences\")\n",
    "plt.xlabel(\"Language\")\n",
    "plt.xticks([0, 1], [\"English\", \"Korean\"])\n",
    "\n",
    "plt.show()"
   ]
  },
  {
   "cell_type": "markdown",
   "metadata": {},
   "source": [
    "번역문인 영어 수동문을 분석의 중심으로 두고 해당 문장이 한국어 원문과의 관계에서 어떻게 해석되었는지를 피동 표현의 개수를 기준으로 시각화해서 분석했다."
   ]
  },
  {
   "cell_type": "code",
   "execution_count": 41,
   "metadata": {},
   "outputs": [
    {
     "name": "stderr",
     "output_type": "stream",
     "text": [
      "/tmp/ipykernel_2141/787704757.py:21: FutureWarning: \n",
      "\n",
      "Passing `palette` without assigning `hue` is deprecated and will be removed in v0.14.0. Assign the `x` variable to `hue` and set `legend=False` for the same effect.\n",
      "\n",
      "  sns.barplot(x=analysis_counts.index, y=analysis_counts.values, palette=\"viridis\")\n",
      "/tmp/ipykernel_2141/787704757.py:24: FutureWarning: Series.__getitem__ treating keys as positions is deprecated. In a future version, integer keys will always be treated as labels (consistent with DataFrame behavior). To access a value by position, use `ser.iloc[pos]`\n",
      "  plt.text(i, count + 0.2, f'{percentages[i]:.1f}%', ha='center', va='bottom', fontsize=12)\n"
     ]
    },
    {
     "data": {
      "image/png": "[encoded data removed]",
      "text/plain": [
       "<Figure size 1000x600 with 1 Axes>"
      ]
     },
     "metadata": {},
     "output_type": "display_data"
    }
   ],
   "source": [
    "# 범주화: 줄어듦, 유지됨, 증가됨\n",
    "def determine_passive_generation(row):\n",
    "    if row[\"eng_passive_count\"] > row[\"kor_passive_count\"]:\n",
    "        return \"independently generated\"  # 독자적으로 생성된 경우\n",
    "    elif row[\"eng_passive_count\"] == row[\"kor_passive_count\"]:\n",
    "        return \"translated from Korean passive\"  # 한국어 피동에서 번역된 경우\n",
    "    else:\n",
    "        return \"reduced in English translation\"  # 한국어 피동 표현이 능동으로 전환된 경우\n",
    "\n",
    "df[\"passive_analysis\"] = df.apply(determine_passive_generation, axis=1)\n",
    "\n",
    "# 각 범주의 개수 계산\n",
    "analysis_counts = df[\"passive_analysis\"].value_counts()\n",
    "\n",
    "# 퍼센트 계산\n",
    "total = analysis_counts.sum()\n",
    "percentages = (analysis_counts / total) * 100\n",
    "\n",
    "# 시각화\n",
    "plt.figure(figsize=(10, 6))\n",
    "sns.barplot(x=analysis_counts.index, y=analysis_counts.values, palette=\"viridis\")\n",
    "\n",
    "for i, count in enumerate(analysis_counts.values):\n",
    "    plt.text(i, count + 0.2, f'{percentages[i]:.1f}%', ha='center', va='bottom', fontsize=12)\n",
    "\n",
    "plt.title(\"Origins of English Passive Sentences: Based on Korean Source Text\")\n",
    "plt.xlabel(\"Type of Translation\")\n",
    "plt.ylabel(\"Number of Data\")\n",
    "plt.xticks([0, 1, 2], [\"Independently Generated\", \"Translated from Korean Passive\", \"Reduced in Translation\"])\n",
    "plt.show()"
   ]
  },
  {
   "cell_type": "markdown",
   "metadata": {},
   "source": [
    "## 3.2. 분석 \n",
    "1. 영어 피동 표현 개수 > 한국어 피동 표현 개수\n",
    "\n",
    "이 경우, 영어 피동 표현이 독자적으로 생성되었을  가능성이 높다.\n",
    "예를 들어 한국어 원문이 능동 표현이거나 피동 표현이 더 적었는데, 영어 번역에서 문맥상 수동 표현이 필요했을 가능성이 있다.\n",
    "\n",
    "2. 영어 피동 표현 개수 == 한국어 피동 표현 개수\n",
    "\n",
    "이 경우, 한국어 피동 표현이 구조적 변환 없이 그대로 영어 수동 표현으로 번역되어 생성되었을 가능성이 높다.\n",
    "\n",
    "3. 영어 피동 표현 개수 < 한국어 피동 표현 개수\n",
    "\n",
    "이 경우, 한국어 피동 표현 중 일부가 영어에서 능동 표현으로 번역되었을 가능성이 있다.\n",
    "예를 들어 한국어에서는 피동 표현으로 쓰이지만 영어에서는 능동문으로 주로 쓰이는 표현들이 일부 있을 수 있다.\n",
    "\n",
    "분석 결과 영어 피동 표현이 한국어 피동 표현보다 많은 경우가 67.1%로 많았다. 영어 피동 표현 개수가 한국어 원문의 피동 표현 개수와 같아 그대로 번역된 경우는 약 27.8%, 영어 피동 표현 개수가 한국어보다 적은 경우, 즉 한국어 피동 표현이 영어에서 능동으로 번역된 경우는 약 5.1%였다. 이는 영어 피동 표현이 한국어 원문과 관계 없이 독자적으로 생성되는 경우가 많으며, 영어에서 피동표현의 생산성이 높다는 것을 암시할 수 있다. "
   ]
  },
  {
   "cell_type": "code",
   "execution_count": 51,
   "metadata": {},
   "outputs": [
    {
     "name": "stdout",
     "output_type": "stream",
     "text": [
      "Case 1 (영어 피동 > 한국어 피동):\n",
      "                                    원문  \\\n",
      "0            우리 제품은 어떤 방식으로 도쿄에 보내지나요?   \n",
      "1  먼저 배로 도쿄 근처 항구까지 운반하고 그 후 차를 이용합니다.   \n",
      "3        7월 29일부터 8월 2일까지가 공식적인 기간이에요.   \n",
      "\n",
      "                                                                        번역문  \n",
      "0                                How will our products be shipped to Tokyo?  \n",
      "1  They'll be sent to Tokyo port by the ship, then transported by vehicles.  \n",
      "3                       It's officially scheduled from July 29 to August 2.  \n",
      "\n",
      "Case 2 (영어 피동 == 한국어 피동):\n",
      "                                               원문  \\\n",
      "2                      교육 안내 메일 하단에 작은 글씨로 적혀있어요.   \n",
      "10              좋은 생각인데, 진행하고 있던 일은 자동으로 저장이 되나요?   \n",
      "13  회사에서 지원해주는 해외 출장 일일 경비가 어떻게 책정 되어있는지 혹시 아시나요?   \n",
      "\n",
      "                                                                                                번역문  \n",
      "2                     It was written in very small letters at the bottom of the notification email.  \n",
      "10      I like the idea, but will it automatically save the data when the computers are turned off?  \n",
      "13  Do you know how much is our daily expense that's covered by the company for our business trips?  \n",
      "\n",
      "Case 3 (영어 피동 < 한국어 피동):\n",
      "                                                                    원문  \\\n",
      "14   팀장님. 저 큰일 났습니다. 이번에 제가 출장을 가게 되었는데, 제 여권이 만료가 되어서 재발급이 늦어질 것같아서요.   \n",
      "102                                   네, 바당 전망이 보이는 방 1개 예약 확인이 되셨습니다.   \n",
      "203                              내일 회의가 오전에서 오후로 옮겨졌는데 무슨 특별한 이유가 있나요?   \n",
      "\n",
      "                                                                                                               번역문  \n",
      "14   I got a situation here. I think the reissuing of my passport will get delayed because my passport is expired.  \n",
      "102                                       Yes, you've booked an ocean view room and your reservation is confirmed.  \n",
      "203             Is there a special reason why tomorrow's meeting has been moved from the morning to the afternoon?  \n"
     ]
    }
   ],
   "source": [
    "# 1. 영어 피동 표현 개수 > 한국어 피동 표현 개수\n",
    "case_1 = df[df[\"eng_passive_count\"] > df[\"kor_passive_count\"]]\n",
    "\n",
    "# 2. 영어 피동 표현 개수 == 한국어 피동 표현 개수\n",
    "case_2 = df[df[\"eng_passive_count\"] == df[\"kor_passive_count\"]]\n",
    "\n",
    "# 3. 영어 피동 표현 개수 < 한국어 피동 표현 개수\n",
    "case_3 = df[df[\"eng_passive_count\"] < df[\"kor_passive_count\"]]\n",
    "\n",
    "# 각 케이스에서 몇 개의 샘플을 출력할지 설정 (예: 상위 3개 샘플)\n",
    "print(\"Case 1 (영어 피동 > 한국어 피동):\")\n",
    "print(case_1[[\"원문\", \"번역문\"]].head(3))  # 상위 3개 샘플\n",
    "\n",
    "print(\"\\nCase 2 (영어 피동 == 한국어 피동):\")\n",
    "print(case_2[[\"원문\", \"번역문\"]].head(3))  # 상위 3개 샘플\n",
    "\n",
    "print(\"\\nCase 3 (영어 피동 < 한국어 피동):\")\n",
    "print(case_3[[\"원문\", \"번역문\"]].head(3))  # 상위 3개 샘플\n"
   ]
  },
  {
   "cell_type": "markdown",
   "metadata": {},
   "source": [
    "## 4 결론\n",
    "이 연구에서는 AI Hub 한영 번역 말뭉치를 활용하여 영어 수동문과 한국어 피동문의 대응 양상을 분석하였다. 전체 데이터에서 영어 수동문을 포함한 데이터를 필터링한 뒤, 해당 데이터 내에서 대응하는 한국어 원문에서 피동 표현을 감지하였다. 한국어에서 번역된 영어 수동문의 기원을 조사한 결과, 한국어 원문에서는 피동 표현이 없었지만 영어로 번역되는 과정에서 독자적으로 수동 표현이 생성되는 경우가 67.1%로 가장 많았다. 그 다음으로는 한국어 피동 표현이 영어 수동문으로 그대로 유지된 경우가 27.8%, 능동문으로 변환된 경우가 5.1%로 나타났다. 이러한 분석 결과는 영어 수동 표현이 한국어 원문에 비해 빈도가 높고, 생산성이 높다는 기존 이론을 지지하는 근거로 볼 수 있다.\n",
    "\n",
    "하지만 본 연구는 한국어 원문 문장의 피동 표현 여부를 기준으로 영어에서 수동 표현이 생성되었는지 여부를 완전히 확인하지 못했기 때문에, 한국어 피동문의 생산성에 대한 분석 결과를 전면적으로 일반화하기에는 한계가 있다. 따라서 한국어 피동 표현을 더 정교하게 감지할 수 있는 방법을 개발하여, 영어 수동문과 한국어 피동 표현을 기준으로 한 추가 분석을 진행하면, 더 신뢰성 있는 교차 검증과 분석이 가능할 것이다."
   ]
  }
 ],
 "metadata": {
  "kernelspec": {
   "display_name": "Python 3",
   "language": "python",
   "name": "python3"
  },
  "language_info": {
   "codemirror_mode": {
    "name": "ipython",
    "version": 3
   },
   "file_extension": ".py",
   "mimetype": "text/x-python",
   "name": "python",
   "nbconvert_exporter": "python",
   "pygments_lexer": "ipython3",
   "version": "3.12.1"
  }
 },
 "nbformat": 4,
 "nbformat_minor": 2
}
